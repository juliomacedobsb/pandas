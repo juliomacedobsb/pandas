{
  "nbformat": 4,
  "nbformat_minor": 0,
  "metadata": {
    "colab": {
      "provenance": [],
      "authorship_tag": "ABX9TyPwdFwSwkGm+MZMS2yAyP60"
    },
    "kernelspec": {
      "name": "python3",
      "display_name": "Python 3"
    },
    "language_info": {
      "name": "python"
    }
  },
  "cells": [
    {
      "cell_type": "code",
      "execution_count": null,
      "metadata": {
        "id": "OtgSJkfaIXPJ"
      },
      "outputs": [],
      "source": [
        "import requests as rq\n",
        "from bs4 import BeautifulSoup as bs\n",
        "import pandas as pd\n",
        "import numpy as np                                        \n",
        "import matplotlib.pyplot as plt"
      ]
    },
    {
      "cell_type": "code",
      "source": [
        "headers = ({'User-Agent' : 'Mozilla/5.0 (X11; Ubuntu; Linux x86_64; rv:102.0) Gecko/20100101 Firefox/102.0'})\n",
        "url = 'https://df.olx.com.br/imoveis/aluguel'\n",
        "response = rq.get(url,  headers=headers)\n",
        "content = response.content\n",
        "\n",
        "site = bs(content, 'html.parser')"
      ],
      "metadata": {
        "id": "1zVV7c27IYbb"
      },
      "execution_count": null,
      "outputs": []
    },
    {
      "cell_type": "code",
      "source": [
        "l = site.find('div', class_='sc-EHOje gpDieb')\n",
        "\n",
        "paginas = []\n",
        "\n",
        "\n",
        "for item in l.find_all('a'):\n",
        "  paginas.append(item['href'])\n",
        "paginas"
      ],
      "metadata": {
        "colab": {
          "base_uri": "https://localhost:8080/"
        },
        "id": "JEoEaOfvIa9D",
        "outputId": "62c7d321-e13c-4edc-e924-aa769980f404"
      },
      "execution_count": null,
      "outputs": [
        {
          "output_type": "execute_result",
          "data": {
            "text/plain": [
              "['https://df.olx.com.br/imoveis/aluguel?o=2',\n",
              " 'https://df.olx.com.br/imoveis/aluguel?o=3',\n",
              " 'https://df.olx.com.br/imoveis/aluguel?o=4',\n",
              " 'https://df.olx.com.br/imoveis/aluguel?o=5',\n",
              " 'https://df.olx.com.br/imoveis/aluguel?o=6',\n",
              " 'https://df.olx.com.br/imoveis/aluguel?o=7',\n",
              " 'https://df.olx.com.br/imoveis/aluguel?o=8',\n",
              " 'https://df.olx.com.br/imoveis/aluguel?o=9',\n",
              " 'https://df.olx.com.br/imoveis/aluguel?o=10',\n",
              " 'https://df.olx.com.br/imoveis/aluguel?o=2']"
            ]
          },
          "metadata": {},
          "execution_count": 3
        }
      ]
    },
    {
      "cell_type": "code",
      "source": [
        "titulos = []\n",
        "links = []\n",
        "valores = []\n",
        "\n",
        "\n",
        "itens = site.find('ul', id='ad-list')\n",
        "for pagina in paginas:\n",
        "  for item in itens.find_all('a'):\n",
        "    links.append(item['href'])\n",
        "  else:\n",
        "    links.append('') "
      ],
      "metadata": {
        "id": "aCgvljRLId05"
      },
      "execution_count": null,
      "outputs": []
    },
    {
      "cell_type": "code",
      "source": [
        "itens = site.find('ul', id='ad-list')\n",
        "for pagina in paginas:\n",
        "  for item in itens.find_all('a'):\n",
        "    titulos.append(item['title'])\n",
        "  else:\n",
        "    titulos.append('')"
      ],
      "metadata": {
        "id": "0hBEj9uZIg5f"
      },
      "execution_count": null,
      "outputs": []
    },
    {
      "cell_type": "code",
      "source": [
        "valores = []\n",
        "\n",
        "\n",
        "itens = site.find('ul', id='ad-list')\n",
        "for pagina in paginas:\n",
        "  for item in itens.find_all('div', class_='sc-1kn4z61-1 dGMPPn'):\n",
        "    valores.append(item.text)\n",
        "  else:\n",
        "    valores.append('') "
      ],
      "metadata": {
        "id": "jF9NTUQRIji_"
      },
      "execution_count": null,
      "outputs": []
    },
    {
      "cell_type": "code",
      "source": [
        "localizacao = []\n",
        "\n",
        "\n",
        "itens = site.find('ul', id='ad-list')\n",
        "for pagina in paginas:\n",
        "\n",
        "  for item in itens.find_all('span', class_='sc-1c3ysll-1 cLQXSQ sc-ifAKCX fCbscF'):\n",
        "    localizacao.append(item['title'])\n",
        "  else:\n",
        "    localizacao.append('') "
      ],
      "metadata": {
        "id": "n7Q4FScbInDN"
      },
      "execution_count": null,
      "outputs": []
    },
    {
      "cell_type": "code",
      "source": [
        "data = []\n",
        "\n",
        "itens = site.find('ul', id='ad-list')\n",
        "for pagina in paginas:\n",
        "\n",
        "\n",
        "  \n",
        "    for item in itens.find_all('span', class_='sc-11h4wdr-0 javKJU sc-ifAKCX fCbscF'):\n",
        "      data.append(item['aria-label'])\n",
        "    else:\n",
        "      data.append('')  "
      ],
      "metadata": {
        "id": "tGVZ6PIrIpxP"
      },
      "execution_count": null,
      "outputs": []
    },
    {
      "cell_type": "code",
      "source": [
        "cond = []\n",
        "quartos = []\n",
        "metros = []\n",
        "\n",
        "itens = site.find('ul', id='ad-list')\n",
        "for pagina in paginas:\n",
        "  for item in itens.find_all('span', class_='sc-1ftm7qz-0 doofcG sc-ifAKCX fCbscF'):\n",
        "      if 'Condomínio' in str(item.text):\n",
        "        cond.append(item.text)  \n",
        "      elif '' in str(item.text):\n",
        "        cond.append('')"
      ],
      "metadata": {
        "id": "sxtU1mtUIsqO"
      },
      "execution_count": null,
      "outputs": []
    },
    {
      "cell_type": "code",
      "source": [
        "cond = []\n",
        "itens = site.find('ul', id='ad-list')\n",
        "for pagina in paginas:\n",
        "  for item in itens.find_all('span', class_='sc-1ftm7qz-0 doofcG sc-ifAKCX fCbscF'):\n",
        "      if 'Condomínio' in str(item.text):\n",
        "        cond.append(item.text)\n",
        "      else:\n",
        "        cond.append('')  "
      ],
      "metadata": {
        "id": "HJ1OT0UZIun0"
      },
      "execution_count": null,
      "outputs": []
    },
    {
      "cell_type": "code",
      "source": [
        "quartos = []\n",
        "itens = site.find('ul', id='ad-list')\n",
        "for pagina in paginas:\n",
        "  for item in itens.find_all('span', class_='sc-1ftm7qz-0 doofcG sc-ifAKCX fCbscF'):\n",
        "      if 'quartos' in str(item.text):\n",
        "        quartos.append(item.text)  \n",
        "      elif '' in str(item.text):\n",
        "        quartos.append('')"
      ],
      "metadata": {
        "id": "RjLVhxcKIxBt"
      },
      "execution_count": null,
      "outputs": []
    },
    {
      "cell_type": "code",
      "source": [
        "metros = []\n",
        "itens = site.find('ul', id='ad-list')\n",
        "for pagina in paginas:\n",
        "  for item in itens.find_all('span', class_='sc-1ftm7qz-0 doofcG sc-ifAKCX fCbscF'):\n",
        "      if 'm²' in str(item.text):\n",
        "        metros.append(item.text)\n",
        "        \n",
        "      else:\n",
        "        metros.append('')  "
      ],
      "metadata": {
        "id": "fnrCPerJ6Znk"
      },
      "execution_count": null,
      "outputs": []
    },
    {
      "cell_type": "code",
      "source": [
        "metros = []\n",
        "quartos = []\n",
        "cond = []\n",
        "\n",
        "itens = site.find('ul', id='ad-list')\n",
        "for pagina in paginas:\n",
        "  for item in itens.find_all('span', class_='sc-1ftm7qz-0 doofcG sc-ifAKCX fCbscF'):\n",
        "      if 'm²' in str(item.text):\n",
        "        metros.append(item.text)\n",
        "      elif 'quartos' in str(item.text):\n",
        "        quartos.append(item.text)\n",
        "      elif 'Condomínio' in str(item.text):\n",
        "        cond.append(item.text)\n",
        "          \n",
        "     \n",
        "\n",
        "     "
      ],
      "metadata": {
        "id": "DnrSjbBZftzt"
      },
      "execution_count": null,
      "outputs": []
    },
    {
      "cell_type": "code",
      "source": [
        "len(valores)"
      ],
      "metadata": {
        "colab": {
          "base_uri": "https://localhost:8080/"
        },
        "id": "jFFVumcc6iiE",
        "outputId": "6ef9392e-2076-41bf-8383-9483c3033233"
      },
      "execution_count": null,
      "outputs": [
        {
          "output_type": "execute_result",
          "data": {
            "text/plain": [
              "510"
            ]
          },
          "metadata": {},
          "execution_count": 10
        }
      ]
    },
    {
      "cell_type": "code",
      "source": [
        "df = pd.DataFrame(list(zip(titulos, links, valores, localizacao, data, metros, quartos, cond,)),\n",
        "                  columns=['titulo', 'link', 'aluguel', 'localização', 'data de postagem', 'metragem', 'quartos', 'condominio' ])"
      ],
      "metadata": {
        "id": "sDblI5XTIzLq"
      },
      "execution_count": null,
      "outputs": []
    },
    {
      "cell_type": "code",
      "source": [
        "df"
      ],
      "metadata": {
        "colab": {
          "base_uri": "https://localhost:8080/",
          "height": 641
        },
        "id": "QIGavASdfe7g",
        "outputId": "a4a68280-0bfc-4c68-efe2-676a4def689e"
      },
      "execution_count": null,
      "outputs": [
        {
          "output_type": "execute_result",
          "data": {
            "text/plain": [
              "                                                titulo  \\\n",
              "0                    Casa com 2 quartos e 2 banheiros    \n",
              "1    Alugo KIT em Taguatinga Sul, Excelente localiz...   \n",
              "2                               ALUGUEL APART. 02 QTS.   \n",
              "3                                              Kitnet    \n",
              "4    Alugo casa de 3 quartos 2 banheiros  no pnort ...   \n",
              "..                                                 ...   \n",
              "335  Alugo apto 1 quarto 200mts do Metrô EQNN 23/25...   \n",
              "336             SQS 315 Bloco E, Asa Sul - Brasília/DF   \n",
              "337  Alugo lindo apartamento de um quarto no Imperi...   \n",
              "338                Aluga-se apartamento sudoeste 126m2   \n",
              "339  Apartamento QNM 12- com 2 quartos em Ceilândia...   \n",
              "\n",
              "                                                  link   aluguel  \\\n",
              "0    https://df.olx.com.br/distrito-federal-e-regia...    R$ 600   \n",
              "1    https://df.olx.com.br/distrito-federal-e-regia...    R$ 650   \n",
              "2    https://df.olx.com.br/distrito-federal-e-regia...    R$ 990   \n",
              "3    https://df.olx.com.br/distrito-federal-e-regia...    R$ 700   \n",
              "4    https://df.olx.com.br/distrito-federal-e-regia...  R$ 1.500   \n",
              "..                                                 ...       ...   \n",
              "335  https://df.olx.com.br/distrito-federal-e-regia...    R$ 900   \n",
              "336  https://df.olx.com.br/distrito-federal-e-regia...  R$ 4.100   \n",
              "337  https://df.olx.com.br/distrito-federal-e-regia...    R$ 850   \n",
              "338  https://df.olx.com.br/distrito-federal-e-regia...  R$ 5.850   \n",
              "339  https://df.olx.com.br/distrito-federal-e-regia...  R$ 1.200   \n",
              "\n",
              "                                           localização  \\\n",
              "0    Brasília, Setor Habitacional Vicente Pires - D...   \n",
              "1       Brasília, Taguatinga Sul (Taguatinga) - DDD 61   \n",
              "2    Brasília, Taguatinga Centro (Taguatinga) - DDD 61   \n",
              "3       Brasília, Taguatinga Sul (Taguatinga) - DDD 61   \n",
              "4       Brasília, Ceilândia Norte (Ceilândia) - DDD 61   \n",
              "..                                                 ...   \n",
              "335     Brasília, Ceilândia Norte (Ceilândia) - DDD 61   \n",
              "336                         Brasília, Asa Sul - DDD 61   \n",
              "337  Brasília, Condomínio Império dos Nobres (Sobra...   \n",
              "338                  Brasília, Setor Sudoeste - DDD 61   \n",
              "339     Brasília, Ceilândia Norte (Ceilândia) - DDD 61   \n",
              "\n",
              "                       data de postagem metragem    quartos  \\\n",
              "0    Anúncio publicado em: Hoje, 10:50.     73m²  2 quartos   \n",
              "1    Anúncio publicado em: Hoje, 10:47.     30m²  2 quartos   \n",
              "2    Anúncio publicado em: Hoje, 10:44.     50m²  3 quartos   \n",
              "3    Anúncio publicado em: Hoje, 10:43.    140m²  2 quartos   \n",
              "4    Anúncio publicado em: Hoje, 10:39.     50m²  3 quartos   \n",
              "..                                  ...      ...        ...   \n",
              "335  Anúncio publicado em: Hoje, 09:37.     53m²  3 quartos   \n",
              "336  Anúncio publicado em: Hoje, 09:36.     55m²  2 quartos   \n",
              "337  Anúncio publicado em: Hoje, 09:31.     74m²  3 quartos   \n",
              "338  Anúncio publicado em: Hoje, 09:31.     60m²  2 quartos   \n",
              "339  Anúncio publicado em: Hoje, 09:29.     90m²  2 quartos   \n",
              "\n",
              "               condominio  \n",
              "0        Condomínio: R$ 0  \n",
              "1      Condomínio: R$ 450  \n",
              "2        Condomínio: R$ 0  \n",
              "3        Condomínio: R$ 3  \n",
              "4      Condomínio: R$ 400  \n",
              "..                    ...  \n",
              "335  Condomínio: R$ 1.100  \n",
              "336    Condomínio: R$ 263  \n",
              "337      Condomínio: R$ 0  \n",
              "338      Condomínio: R$ 0  \n",
              "339    Condomínio: R$ 385  \n",
              "\n",
              "[340 rows x 8 columns]"
            ],
            "text/html": [
              "\n",
              "  <div id=\"df-a4ae6ba2-c513-440c-aaa7-e8eb64a26ced\">\n",
              "    <div class=\"colab-df-container\">\n",
              "      <div>\n",
              "<style scoped>\n",
              "    .dataframe tbody tr th:only-of-type {\n",
              "        vertical-align: middle;\n",
              "    }\n",
              "\n",
              "    .dataframe tbody tr th {\n",
              "        vertical-align: top;\n",
              "    }\n",
              "\n",
              "    .dataframe thead th {\n",
              "        text-align: right;\n",
              "    }\n",
              "</style>\n",
              "<table border=\"1\" class=\"dataframe\">\n",
              "  <thead>\n",
              "    <tr style=\"text-align: right;\">\n",
              "      <th></th>\n",
              "      <th>titulo</th>\n",
              "      <th>link</th>\n",
              "      <th>aluguel</th>\n",
              "      <th>localização</th>\n",
              "      <th>data de postagem</th>\n",
              "      <th>metragem</th>\n",
              "      <th>quartos</th>\n",
              "      <th>condominio</th>\n",
              "    </tr>\n",
              "  </thead>\n",
              "  <tbody>\n",
              "    <tr>\n",
              "      <th>0</th>\n",
              "      <td>Casa com 2 quartos e 2 banheiros</td>\n",
              "      <td>https://df.olx.com.br/distrito-federal-e-regia...</td>\n",
              "      <td>R$ 600</td>\n",
              "      <td>Brasília, Setor Habitacional Vicente Pires - D...</td>\n",
              "      <td>Anúncio publicado em: Hoje, 10:50.</td>\n",
              "      <td>73m²</td>\n",
              "      <td>2 quartos</td>\n",
              "      <td>Condomínio: R$ 0</td>\n",
              "    </tr>\n",
              "    <tr>\n",
              "      <th>1</th>\n",
              "      <td>Alugo KIT em Taguatinga Sul, Excelente localiz...</td>\n",
              "      <td>https://df.olx.com.br/distrito-federal-e-regia...</td>\n",
              "      <td>R$ 650</td>\n",
              "      <td>Brasília, Taguatinga Sul (Taguatinga) - DDD 61</td>\n",
              "      <td>Anúncio publicado em: Hoje, 10:47.</td>\n",
              "      <td>30m²</td>\n",
              "      <td>2 quartos</td>\n",
              "      <td>Condomínio: R$ 450</td>\n",
              "    </tr>\n",
              "    <tr>\n",
              "      <th>2</th>\n",
              "      <td>ALUGUEL APART. 02 QTS.</td>\n",
              "      <td>https://df.olx.com.br/distrito-federal-e-regia...</td>\n",
              "      <td>R$ 990</td>\n",
              "      <td>Brasília, Taguatinga Centro (Taguatinga) - DDD 61</td>\n",
              "      <td>Anúncio publicado em: Hoje, 10:44.</td>\n",
              "      <td>50m²</td>\n",
              "      <td>3 quartos</td>\n",
              "      <td>Condomínio: R$ 0</td>\n",
              "    </tr>\n",
              "    <tr>\n",
              "      <th>3</th>\n",
              "      <td>Kitnet</td>\n",
              "      <td>https://df.olx.com.br/distrito-federal-e-regia...</td>\n",
              "      <td>R$ 700</td>\n",
              "      <td>Brasília, Taguatinga Sul (Taguatinga) - DDD 61</td>\n",
              "      <td>Anúncio publicado em: Hoje, 10:43.</td>\n",
              "      <td>140m²</td>\n",
              "      <td>2 quartos</td>\n",
              "      <td>Condomínio: R$ 3</td>\n",
              "    </tr>\n",
              "    <tr>\n",
              "      <th>4</th>\n",
              "      <td>Alugo casa de 3 quartos 2 banheiros  no pnort ...</td>\n",
              "      <td>https://df.olx.com.br/distrito-federal-e-regia...</td>\n",
              "      <td>R$ 1.500</td>\n",
              "      <td>Brasília, Ceilândia Norte (Ceilândia) - DDD 61</td>\n",
              "      <td>Anúncio publicado em: Hoje, 10:39.</td>\n",
              "      <td>50m²</td>\n",
              "      <td>3 quartos</td>\n",
              "      <td>Condomínio: R$ 400</td>\n",
              "    </tr>\n",
              "    <tr>\n",
              "      <th>...</th>\n",
              "      <td>...</td>\n",
              "      <td>...</td>\n",
              "      <td>...</td>\n",
              "      <td>...</td>\n",
              "      <td>...</td>\n",
              "      <td>...</td>\n",
              "      <td>...</td>\n",
              "      <td>...</td>\n",
              "    </tr>\n",
              "    <tr>\n",
              "      <th>335</th>\n",
              "      <td>Alugo apto 1 quarto 200mts do Metrô EQNN 23/25...</td>\n",
              "      <td>https://df.olx.com.br/distrito-federal-e-regia...</td>\n",
              "      <td>R$ 900</td>\n",
              "      <td>Brasília, Ceilândia Norte (Ceilândia) - DDD 61</td>\n",
              "      <td>Anúncio publicado em: Hoje, 09:37.</td>\n",
              "      <td>53m²</td>\n",
              "      <td>3 quartos</td>\n",
              "      <td>Condomínio: R$ 1.100</td>\n",
              "    </tr>\n",
              "    <tr>\n",
              "      <th>336</th>\n",
              "      <td>SQS 315 Bloco E, Asa Sul - Brasília/DF</td>\n",
              "      <td>https://df.olx.com.br/distrito-federal-e-regia...</td>\n",
              "      <td>R$ 4.100</td>\n",
              "      <td>Brasília, Asa Sul - DDD 61</td>\n",
              "      <td>Anúncio publicado em: Hoje, 09:36.</td>\n",
              "      <td>55m²</td>\n",
              "      <td>2 quartos</td>\n",
              "      <td>Condomínio: R$ 263</td>\n",
              "    </tr>\n",
              "    <tr>\n",
              "      <th>337</th>\n",
              "      <td>Alugo lindo apartamento de um quarto no Imperi...</td>\n",
              "      <td>https://df.olx.com.br/distrito-federal-e-regia...</td>\n",
              "      <td>R$ 850</td>\n",
              "      <td>Brasília, Condomínio Império dos Nobres (Sobra...</td>\n",
              "      <td>Anúncio publicado em: Hoje, 09:31.</td>\n",
              "      <td>74m²</td>\n",
              "      <td>3 quartos</td>\n",
              "      <td>Condomínio: R$ 0</td>\n",
              "    </tr>\n",
              "    <tr>\n",
              "      <th>338</th>\n",
              "      <td>Aluga-se apartamento sudoeste 126m2</td>\n",
              "      <td>https://df.olx.com.br/distrito-federal-e-regia...</td>\n",
              "      <td>R$ 5.850</td>\n",
              "      <td>Brasília, Setor Sudoeste - DDD 61</td>\n",
              "      <td>Anúncio publicado em: Hoje, 09:31.</td>\n",
              "      <td>60m²</td>\n",
              "      <td>2 quartos</td>\n",
              "      <td>Condomínio: R$ 0</td>\n",
              "    </tr>\n",
              "    <tr>\n",
              "      <th>339</th>\n",
              "      <td>Apartamento QNM 12- com 2 quartos em Ceilândia...</td>\n",
              "      <td>https://df.olx.com.br/distrito-federal-e-regia...</td>\n",
              "      <td>R$ 1.200</td>\n",
              "      <td>Brasília, Ceilândia Norte (Ceilândia) - DDD 61</td>\n",
              "      <td>Anúncio publicado em: Hoje, 09:29.</td>\n",
              "      <td>90m²</td>\n",
              "      <td>2 quartos</td>\n",
              "      <td>Condomínio: R$ 385</td>\n",
              "    </tr>\n",
              "  </tbody>\n",
              "</table>\n",
              "<p>340 rows × 8 columns</p>\n",
              "</div>\n",
              "      <button class=\"colab-df-convert\" onclick=\"convertToInteractive('df-a4ae6ba2-c513-440c-aaa7-e8eb64a26ced')\"\n",
              "              title=\"Convert this dataframe to an interactive table.\"\n",
              "              style=\"display:none;\">\n",
              "        \n",
              "  <svg xmlns=\"http://www.w3.org/2000/svg\" height=\"24px\"viewBox=\"0 0 24 24\"\n",
              "       width=\"24px\">\n",
              "    <path d=\"M0 0h24v24H0V0z\" fill=\"none\"/>\n",
              "    <path d=\"M18.56 5.44l.94 2.06.94-2.06 2.06-.94-2.06-.94-.94-2.06-.94 2.06-2.06.94zm-11 1L8.5 8.5l.94-2.06 2.06-.94-2.06-.94L8.5 2.5l-.94 2.06-2.06.94zm10 10l.94 2.06.94-2.06 2.06-.94-2.06-.94-.94-2.06-.94 2.06-2.06.94z\"/><path d=\"M17.41 7.96l-1.37-1.37c-.4-.4-.92-.59-1.43-.59-.52 0-1.04.2-1.43.59L10.3 9.45l-7.72 7.72c-.78.78-.78 2.05 0 2.83L4 21.41c.39.39.9.59 1.41.59.51 0 1.02-.2 1.41-.59l7.78-7.78 2.81-2.81c.8-.78.8-2.07 0-2.86zM5.41 20L4 18.59l7.72-7.72 1.47 1.35L5.41 20z\"/>\n",
              "  </svg>\n",
              "      </button>\n",
              "      \n",
              "  <style>\n",
              "    .colab-df-container {\n",
              "      display:flex;\n",
              "      flex-wrap:wrap;\n",
              "      gap: 12px;\n",
              "    }\n",
              "\n",
              "    .colab-df-convert {\n",
              "      background-color: #E8F0FE;\n",
              "      border: none;\n",
              "      border-radius: 50%;\n",
              "      cursor: pointer;\n",
              "      display: none;\n",
              "      fill: #1967D2;\n",
              "      height: 32px;\n",
              "      padding: 0 0 0 0;\n",
              "      width: 32px;\n",
              "    }\n",
              "\n",
              "    .colab-df-convert:hover {\n",
              "      background-color: #E2EBFA;\n",
              "      box-shadow: 0px 1px 2px rgba(60, 64, 67, 0.3), 0px 1px 3px 1px rgba(60, 64, 67, 0.15);\n",
              "      fill: #174EA6;\n",
              "    }\n",
              "\n",
              "    [theme=dark] .colab-df-convert {\n",
              "      background-color: #3B4455;\n",
              "      fill: #D2E3FC;\n",
              "    }\n",
              "\n",
              "    [theme=dark] .colab-df-convert:hover {\n",
              "      background-color: #434B5C;\n",
              "      box-shadow: 0px 1px 3px 1px rgba(0, 0, 0, 0.15);\n",
              "      filter: drop-shadow(0px 1px 2px rgba(0, 0, 0, 0.3));\n",
              "      fill: #FFFFFF;\n",
              "    }\n",
              "  </style>\n",
              "\n",
              "      <script>\n",
              "        const buttonEl =\n",
              "          document.querySelector('#df-a4ae6ba2-c513-440c-aaa7-e8eb64a26ced button.colab-df-convert');\n",
              "        buttonEl.style.display =\n",
              "          google.colab.kernel.accessAllowed ? 'block' : 'none';\n",
              "\n",
              "        async function convertToInteractive(key) {\n",
              "          const element = document.querySelector('#df-a4ae6ba2-c513-440c-aaa7-e8eb64a26ced');\n",
              "          const dataTable =\n",
              "            await google.colab.kernel.invokeFunction('convertToInteractive',\n",
              "                                                     [key], {});\n",
              "          if (!dataTable) return;\n",
              "\n",
              "          const docLinkHtml = 'Like what you see? Visit the ' +\n",
              "            '<a target=\"_blank\" href=https://colab.research.google.com/notebooks/data_table.ipynb>data table notebook</a>'\n",
              "            + ' to learn more about interactive tables.';\n",
              "          element.innerHTML = '';\n",
              "          dataTable['output_type'] = 'display_data';\n",
              "          await google.colab.output.renderOutput(dataTable, element);\n",
              "          const docLink = document.createElement('div');\n",
              "          docLink.innerHTML = docLinkHtml;\n",
              "          element.appendChild(docLink);\n",
              "        }\n",
              "      </script>\n",
              "    </div>\n",
              "  </div>\n",
              "  "
            ]
          },
          "metadata": {},
          "execution_count": 31
        }
      ]
    },
    {
      "cell_type": "code",
      "source": [
        "df['aluguel'] = df['aluguel'].str.replace(r'\\D', '')\n",
        "df['condominio'] = df['condominio'].str.replace(r'\\D', '')\n",
        "df['metragem'] = df['metragem'].str.replace(r'\\D', '')\n",
        "df['quartos'] = df['quartos'].str.replace(r'\\D', '')\n",
        "\n"
      ],
      "metadata": {
        "colab": {
          "base_uri": "https://localhost:8080/"
        },
        "id": "vZsqDLHFI5t9",
        "outputId": "9d86904e-77b5-4fe8-ce5e-9359e400e04d"
      },
      "execution_count": null,
      "outputs": [
        {
          "output_type": "stream",
          "name": "stderr",
          "text": [
            "/usr/local/lib/python3.7/dist-packages/ipykernel_launcher.py:1: FutureWarning: The default value of regex will change from True to False in a future version.\n",
            "  \"\"\"Entry point for launching an IPython kernel.\n",
            "/usr/local/lib/python3.7/dist-packages/ipykernel_launcher.py:2: FutureWarning: The default value of regex will change from True to False in a future version.\n",
            "  \n",
            "/usr/local/lib/python3.7/dist-packages/ipykernel_launcher.py:3: FutureWarning: The default value of regex will change from True to False in a future version.\n",
            "  This is separate from the ipykernel package so we can avoid doing imports until\n",
            "/usr/local/lib/python3.7/dist-packages/ipykernel_launcher.py:4: FutureWarning: The default value of regex will change from True to False in a future version.\n",
            "  after removing the cwd from sys.path.\n"
          ]
        }
      ]
    },
    {
      "cell_type": "code",
      "source": [
        "df['localização'] = df['localização'].str.replace(r'\\D', '')"
      ],
      "metadata": {
        "colab": {
          "base_uri": "https://localhost:8080/"
        },
        "id": "-t29fwbJtOhr",
        "outputId": "2fe85b3f-4d07-4847-8d1b-430440c9e18b"
      },
      "execution_count": null,
      "outputs": [
        {
          "output_type": "stream",
          "name": "stderr",
          "text": [
            "/usr/local/lib/python3.7/dist-packages/ipykernel_launcher.py:1: FutureWarning: The default value of regex will change from True to False in a future version.\n",
            "  \"\"\"Entry point for launching an IPython kernel.\n"
          ]
        }
      ]
    },
    {
      "cell_type": "code",
      "source": [
        "df['condominio'] = pd.to_numeric(df['condominio'])\n",
        "df['metragem'] = pd.to_numeric(df['metragem'])\n",
        "df['aluguel'] = pd.to_numeric(df['aluguel'])\n",
        "df['quartos'] = pd.to_numeric(df['quartos'])\n"
      ],
      "metadata": {
        "id": "I0Mm9TinI9OX"
      },
      "execution_count": null,
      "outputs": []
    },
    {
      "cell_type": "code",
      "source": [
        "df.info()"
      ],
      "metadata": {
        "colab": {
          "base_uri": "https://localhost:8080/"
        },
        "id": "wYOWmz0lx_Aa",
        "outputId": "5408e8d8-acf0-47ea-cc4a-cda039e16936"
      },
      "execution_count": null,
      "outputs": [
        {
          "output_type": "stream",
          "name": "stdout",
          "text": [
            "<class 'pandas.core.frame.DataFrame'>\n",
            "RangeIndex: 340 entries, 0 to 339\n",
            "Data columns (total 8 columns):\n",
            " #   Column            Non-Null Count  Dtype  \n",
            "---  ------            --------------  -----  \n",
            " 0   titulo            340 non-null    object \n",
            " 1   link              340 non-null    object \n",
            " 2   aluguel           334 non-null    float64\n",
            " 3   localização       340 non-null    object \n",
            " 4   data de postagem  340 non-null    object \n",
            " 5   metragem          340 non-null    int64  \n",
            " 6   quartos           340 non-null    int64  \n",
            " 7   condominio        340 non-null    int64  \n",
            "dtypes: float64(1), int64(3), object(4)\n",
            "memory usage: 21.4+ KB\n"
          ]
        }
      ]
    },
    {
      "cell_type": "code",
      "source": [
        "df.isnull().sum()"
      ],
      "metadata": {
        "colab": {
          "base_uri": "https://localhost:8080/"
        },
        "id": "IPsCm3Z2xnhl",
        "outputId": "1597cc9d-1bbd-42d5-abd1-5eb006228910"
      },
      "execution_count": null,
      "outputs": [
        {
          "output_type": "execute_result",
          "data": {
            "text/plain": [
              "titulo              0\n",
              "link                0\n",
              "aluguel             6\n",
              "localização         0\n",
              "data de postagem    0\n",
              "metragem            0\n",
              "quartos             0\n",
              "condominio          0\n",
              "dtype: int64"
            ]
          },
          "metadata": {},
          "execution_count": 17
        }
      ]
    },
    {
      "cell_type": "code",
      "source": [
        "df['valor total'] = df['aluguel'] + df['condominio']"
      ],
      "metadata": {
        "id": "ZKkzhV6sJA1l"
      },
      "execution_count": null,
      "outputs": []
    },
    {
      "cell_type": "code",
      "source": [
        "df.head(100)"
      ],
      "metadata": {
        "id": "8KWnJCcX6DNh"
      },
      "execution_count": null,
      "outputs": []
    },
    {
      "cell_type": "code",
      "source": [
        "group1 = df[['localização', 'valor total']]\n"
      ],
      "metadata": {
        "id": "EOXOJREs6Qro"
      },
      "execution_count": null,
      "outputs": []
    },
    {
      "cell_type": "code",
      "source": [
        "group1"
      ],
      "metadata": {
        "colab": {
          "base_uri": "https://localhost:8080/",
          "height": 423
        },
        "id": "WHgyunO17gOk",
        "outputId": "1b019822-489a-4877-d4b6-c08f905755ee"
      },
      "execution_count": null,
      "outputs": [
        {
          "output_type": "execute_result",
          "data": {
            "text/plain": [
              "                                           localização  valor total\n",
              "0    Brasília, Setor Habitacional Vicente Pires - D...        600.0\n",
              "1       Brasília, Taguatinga Sul (Taguatinga) - DDD 61       1100.0\n",
              "2    Brasília, Taguatinga Centro (Taguatinga) - DDD 61        990.0\n",
              "3       Brasília, Taguatinga Sul (Taguatinga) - DDD 61        703.0\n",
              "4       Brasília, Ceilândia Norte (Ceilândia) - DDD 61       1900.0\n",
              "..                                                 ...          ...\n",
              "335     Brasília, Ceilândia Norte (Ceilândia) - DDD 61       2000.0\n",
              "336                         Brasília, Asa Sul - DDD 61       4363.0\n",
              "337  Brasília, Condomínio Império dos Nobres (Sobra...        850.0\n",
              "338                  Brasília, Setor Sudoeste - DDD 61       5850.0\n",
              "339     Brasília, Ceilândia Norte (Ceilândia) - DDD 61       1585.0\n",
              "\n",
              "[340 rows x 2 columns]"
            ],
            "text/html": [
              "\n",
              "  <div id=\"df-b9d55cae-52f6-4aa6-8b35-44938b002f62\">\n",
              "    <div class=\"colab-df-container\">\n",
              "      <div>\n",
              "<style scoped>\n",
              "    .dataframe tbody tr th:only-of-type {\n",
              "        vertical-align: middle;\n",
              "    }\n",
              "\n",
              "    .dataframe tbody tr th {\n",
              "        vertical-align: top;\n",
              "    }\n",
              "\n",
              "    .dataframe thead th {\n",
              "        text-align: right;\n",
              "    }\n",
              "</style>\n",
              "<table border=\"1\" class=\"dataframe\">\n",
              "  <thead>\n",
              "    <tr style=\"text-align: right;\">\n",
              "      <th></th>\n",
              "      <th>localização</th>\n",
              "      <th>valor total</th>\n",
              "    </tr>\n",
              "  </thead>\n",
              "  <tbody>\n",
              "    <tr>\n",
              "      <th>0</th>\n",
              "      <td>Brasília, Setor Habitacional Vicente Pires - D...</td>\n",
              "      <td>600.0</td>\n",
              "    </tr>\n",
              "    <tr>\n",
              "      <th>1</th>\n",
              "      <td>Brasília, Taguatinga Sul (Taguatinga) - DDD 61</td>\n",
              "      <td>1100.0</td>\n",
              "    </tr>\n",
              "    <tr>\n",
              "      <th>2</th>\n",
              "      <td>Brasília, Taguatinga Centro (Taguatinga) - DDD 61</td>\n",
              "      <td>990.0</td>\n",
              "    </tr>\n",
              "    <tr>\n",
              "      <th>3</th>\n",
              "      <td>Brasília, Taguatinga Sul (Taguatinga) - DDD 61</td>\n",
              "      <td>703.0</td>\n",
              "    </tr>\n",
              "    <tr>\n",
              "      <th>4</th>\n",
              "      <td>Brasília, Ceilândia Norte (Ceilândia) - DDD 61</td>\n",
              "      <td>1900.0</td>\n",
              "    </tr>\n",
              "    <tr>\n",
              "      <th>...</th>\n",
              "      <td>...</td>\n",
              "      <td>...</td>\n",
              "    </tr>\n",
              "    <tr>\n",
              "      <th>335</th>\n",
              "      <td>Brasília, Ceilândia Norte (Ceilândia) - DDD 61</td>\n",
              "      <td>2000.0</td>\n",
              "    </tr>\n",
              "    <tr>\n",
              "      <th>336</th>\n",
              "      <td>Brasília, Asa Sul - DDD 61</td>\n",
              "      <td>4363.0</td>\n",
              "    </tr>\n",
              "    <tr>\n",
              "      <th>337</th>\n",
              "      <td>Brasília, Condomínio Império dos Nobres (Sobra...</td>\n",
              "      <td>850.0</td>\n",
              "    </tr>\n",
              "    <tr>\n",
              "      <th>338</th>\n",
              "      <td>Brasília, Setor Sudoeste - DDD 61</td>\n",
              "      <td>5850.0</td>\n",
              "    </tr>\n",
              "    <tr>\n",
              "      <th>339</th>\n",
              "      <td>Brasília, Ceilândia Norte (Ceilândia) - DDD 61</td>\n",
              "      <td>1585.0</td>\n",
              "    </tr>\n",
              "  </tbody>\n",
              "</table>\n",
              "<p>340 rows × 2 columns</p>\n",
              "</div>\n",
              "      <button class=\"colab-df-convert\" onclick=\"convertToInteractive('df-b9d55cae-52f6-4aa6-8b35-44938b002f62')\"\n",
              "              title=\"Convert this dataframe to an interactive table.\"\n",
              "              style=\"display:none;\">\n",
              "        \n",
              "  <svg xmlns=\"http://www.w3.org/2000/svg\" height=\"24px\"viewBox=\"0 0 24 24\"\n",
              "       width=\"24px\">\n",
              "    <path d=\"M0 0h24v24H0V0z\" fill=\"none\"/>\n",
              "    <path d=\"M18.56 5.44l.94 2.06.94-2.06 2.06-.94-2.06-.94-.94-2.06-.94 2.06-2.06.94zm-11 1L8.5 8.5l.94-2.06 2.06-.94-2.06-.94L8.5 2.5l-.94 2.06-2.06.94zm10 10l.94 2.06.94-2.06 2.06-.94-2.06-.94-.94-2.06-.94 2.06-2.06.94z\"/><path d=\"M17.41 7.96l-1.37-1.37c-.4-.4-.92-.59-1.43-.59-.52 0-1.04.2-1.43.59L10.3 9.45l-7.72 7.72c-.78.78-.78 2.05 0 2.83L4 21.41c.39.39.9.59 1.41.59.51 0 1.02-.2 1.41-.59l7.78-7.78 2.81-2.81c.8-.78.8-2.07 0-2.86zM5.41 20L4 18.59l7.72-7.72 1.47 1.35L5.41 20z\"/>\n",
              "  </svg>\n",
              "      </button>\n",
              "      \n",
              "  <style>\n",
              "    .colab-df-container {\n",
              "      display:flex;\n",
              "      flex-wrap:wrap;\n",
              "      gap: 12px;\n",
              "    }\n",
              "\n",
              "    .colab-df-convert {\n",
              "      background-color: #E8F0FE;\n",
              "      border: none;\n",
              "      border-radius: 50%;\n",
              "      cursor: pointer;\n",
              "      display: none;\n",
              "      fill: #1967D2;\n",
              "      height: 32px;\n",
              "      padding: 0 0 0 0;\n",
              "      width: 32px;\n",
              "    }\n",
              "\n",
              "    .colab-df-convert:hover {\n",
              "      background-color: #E2EBFA;\n",
              "      box-shadow: 0px 1px 2px rgba(60, 64, 67, 0.3), 0px 1px 3px 1px rgba(60, 64, 67, 0.15);\n",
              "      fill: #174EA6;\n",
              "    }\n",
              "\n",
              "    [theme=dark] .colab-df-convert {\n",
              "      background-color: #3B4455;\n",
              "      fill: #D2E3FC;\n",
              "    }\n",
              "\n",
              "    [theme=dark] .colab-df-convert:hover {\n",
              "      background-color: #434B5C;\n",
              "      box-shadow: 0px 1px 3px 1px rgba(0, 0, 0, 0.15);\n",
              "      filter: drop-shadow(0px 1px 2px rgba(0, 0, 0, 0.3));\n",
              "      fill: #FFFFFF;\n",
              "    }\n",
              "  </style>\n",
              "\n",
              "      <script>\n",
              "        const buttonEl =\n",
              "          document.querySelector('#df-b9d55cae-52f6-4aa6-8b35-44938b002f62 button.colab-df-convert');\n",
              "        buttonEl.style.display =\n",
              "          google.colab.kernel.accessAllowed ? 'block' : 'none';\n",
              "\n",
              "        async function convertToInteractive(key) {\n",
              "          const element = document.querySelector('#df-b9d55cae-52f6-4aa6-8b35-44938b002f62');\n",
              "          const dataTable =\n",
              "            await google.colab.kernel.invokeFunction('convertToInteractive',\n",
              "                                                     [key], {});\n",
              "          if (!dataTable) return;\n",
              "\n",
              "          const docLinkHtml = 'Like what you see? Visit the ' +\n",
              "            '<a target=\"_blank\" href=https://colab.research.google.com/notebooks/data_table.ipynb>data table notebook</a>'\n",
              "            + ' to learn more about interactive tables.';\n",
              "          element.innerHTML = '';\n",
              "          dataTable['output_type'] = 'display_data';\n",
              "          await google.colab.output.renderOutput(dataTable, element);\n",
              "          const docLink = document.createElement('div');\n",
              "          docLink.innerHTML = docLinkHtml;\n",
              "          element.appendChild(docLink);\n",
              "        }\n",
              "      </script>\n",
              "    </div>\n",
              "  </div>\n",
              "  "
            ]
          },
          "metadata": {},
          "execution_count": 37
        }
      ]
    },
    {
      "cell_type": "code",
      "source": [
        "group.max()"
      ],
      "metadata": {
        "colab": {
          "base_uri": "https://localhost:8080/"
        },
        "id": "PvZBpc2aj88H",
        "outputId": "c0d5e702-fafc-4666-c9ec-48521f3ca644"
      },
      "execution_count": null,
      "outputs": [
        {
          "output_type": "execute_result",
          "data": {
            "text/plain": [
              "localização    Águas Lindas de Goiás, Parque da Barragem Seto...\n",
              "valor total                                            1001400.0\n",
              "dtype: object"
            ]
          },
          "metadata": {},
          "execution_count": 109
        }
      ]
    },
    {
      "cell_type": "code",
      "source": [
        "gr = group.groupby('localização').median()"
      ],
      "metadata": {
        "id": "yzbJCPMCgf7Q"
      },
      "execution_count": null,
      "outputs": []
    },
    {
      "cell_type": "code",
      "source": [],
      "metadata": {
        "id": "4yXd7rCGC--R"
      },
      "execution_count": null,
      "outputs": []
    },
    {
      "cell_type": "code",
      "source": [
        "group1.groupby('localização').describe()"
      ],
      "metadata": {
        "id": "_BPcnbOEK06H"
      },
      "execution_count": null,
      "outputs": []
    },
    {
      "cell_type": "code",
      "source": [
        "df.drop_duplicates()"
      ],
      "metadata": {
        "id": "xj0S1U2nLiB9",
        "colab": {
          "base_uri": "https://localhost:8080/",
          "height": 658
        },
        "outputId": "be9ab1d3-e3f0-4f3c-c8ee-307723853db8"
      },
      "execution_count": null,
      "outputs": [
        {
          "output_type": "execute_result",
          "data": {
            "text/plain": [
              "                                                titulo  \\\n",
              "0                    Casa com 2 quartos e 2 banheiros    \n",
              "1    Alugo KIT em Taguatinga Sul, Excelente localiz...   \n",
              "2                               ALUGUEL APART. 02 QTS.   \n",
              "3                                              Kitnet    \n",
              "4    Alugo casa de 3 quartos 2 banheiros  no pnort ...   \n",
              "..                                                 ...   \n",
              "334  Ap. 2 quartos c/ garagem Vicente Pires Rua 4c ...   \n",
              "335  Alugo apto 1 quarto 200mts do Metrô EQNN 23/25...   \n",
              "336             SQS 315 Bloco E, Asa Sul - Brasília/DF   \n",
              "337  Alugo lindo apartamento de um quarto no Imperi...   \n",
              "339  Apartamento QNM 12- com 2 quartos em Ceilândia...   \n",
              "\n",
              "                                                  link  aluguel  \\\n",
              "0    https://df.olx.com.br/distrito-federal-e-regia...    600.0   \n",
              "1    https://df.olx.com.br/distrito-federal-e-regia...    650.0   \n",
              "2    https://df.olx.com.br/distrito-federal-e-regia...    990.0   \n",
              "3    https://df.olx.com.br/distrito-federal-e-regia...    700.0   \n",
              "4    https://df.olx.com.br/distrito-federal-e-regia...   1500.0   \n",
              "..                                                 ...      ...   \n",
              "334  https://df.olx.com.br/distrito-federal-e-regia...    800.0   \n",
              "335  https://df.olx.com.br/distrito-federal-e-regia...    900.0   \n",
              "336  https://df.olx.com.br/distrito-federal-e-regia...   4100.0   \n",
              "337  https://df.olx.com.br/distrito-federal-e-regia...    850.0   \n",
              "339  https://df.olx.com.br/distrito-federal-e-regia...   1200.0   \n",
              "\n",
              "                                           localização  \\\n",
              "0    Brasília, Setor Habitacional Vicente Pires - D...   \n",
              "1       Brasília, Taguatinga Sul (Taguatinga) - DDD 61   \n",
              "2    Brasília, Taguatinga Centro (Taguatinga) - DDD 61   \n",
              "3       Brasília, Taguatinga Sul (Taguatinga) - DDD 61   \n",
              "4       Brasília, Ceilândia Norte (Ceilândia) - DDD 61   \n",
              "..                                                 ...   \n",
              "334  Brasília, Setor Habitacional Vicente Pires - T...   \n",
              "335     Brasília, Ceilândia Norte (Ceilândia) - DDD 61   \n",
              "336                         Brasília, Asa Sul - DDD 61   \n",
              "337  Brasília, Condomínio Império dos Nobres (Sobra...   \n",
              "339     Brasília, Ceilândia Norte (Ceilândia) - DDD 61   \n",
              "\n",
              "                       data de postagem  metragem  quartos  condominio  \\\n",
              "0    Anúncio publicado em: Hoje, 10:50.        73        2           0   \n",
              "1    Anúncio publicado em: Hoje, 10:47.        30        2         450   \n",
              "2    Anúncio publicado em: Hoje, 10:44.        50        3           0   \n",
              "3    Anúncio publicado em: Hoje, 10:43.       140        2           3   \n",
              "4    Anúncio publicado em: Hoje, 10:39.        50        3         400   \n",
              "..                                  ...       ...      ...         ...   \n",
              "334  Anúncio publicado em: Hoje, 09:42.        54        2           0   \n",
              "335  Anúncio publicado em: Hoje, 09:37.        53        3        1100   \n",
              "336  Anúncio publicado em: Hoje, 09:36.        55        2         263   \n",
              "337  Anúncio publicado em: Hoje, 09:31.        74        3           0   \n",
              "339  Anúncio publicado em: Hoje, 09:29.        90        2         385   \n",
              "\n",
              "     valor total  \n",
              "0          600.0  \n",
              "1         1100.0  \n",
              "2          990.0  \n",
              "3          703.0  \n",
              "4         1900.0  \n",
              "..           ...  \n",
              "334        800.0  \n",
              "335       2000.0  \n",
              "336       4363.0  \n",
              "337        850.0  \n",
              "339       1585.0  \n",
              "\n",
              "[326 rows x 9 columns]"
            ],
            "text/html": [
              "\n",
              "  <div id=\"df-8312afc3-f3bd-4899-b42e-0c8cca06b8bc\">\n",
              "    <div class=\"colab-df-container\">\n",
              "      <div>\n",
              "<style scoped>\n",
              "    .dataframe tbody tr th:only-of-type {\n",
              "        vertical-align: middle;\n",
              "    }\n",
              "\n",
              "    .dataframe tbody tr th {\n",
              "        vertical-align: top;\n",
              "    }\n",
              "\n",
              "    .dataframe thead th {\n",
              "        text-align: right;\n",
              "    }\n",
              "</style>\n",
              "<table border=\"1\" class=\"dataframe\">\n",
              "  <thead>\n",
              "    <tr style=\"text-align: right;\">\n",
              "      <th></th>\n",
              "      <th>titulo</th>\n",
              "      <th>link</th>\n",
              "      <th>aluguel</th>\n",
              "      <th>localização</th>\n",
              "      <th>data de postagem</th>\n",
              "      <th>metragem</th>\n",
              "      <th>quartos</th>\n",
              "      <th>condominio</th>\n",
              "      <th>valor total</th>\n",
              "    </tr>\n",
              "  </thead>\n",
              "  <tbody>\n",
              "    <tr>\n",
              "      <th>0</th>\n",
              "      <td>Casa com 2 quartos e 2 banheiros</td>\n",
              "      <td>https://df.olx.com.br/distrito-federal-e-regia...</td>\n",
              "      <td>600.0</td>\n",
              "      <td>Brasília, Setor Habitacional Vicente Pires - D...</td>\n",
              "      <td>Anúncio publicado em: Hoje, 10:50.</td>\n",
              "      <td>73</td>\n",
              "      <td>2</td>\n",
              "      <td>0</td>\n",
              "      <td>600.0</td>\n",
              "    </tr>\n",
              "    <tr>\n",
              "      <th>1</th>\n",
              "      <td>Alugo KIT em Taguatinga Sul, Excelente localiz...</td>\n",
              "      <td>https://df.olx.com.br/distrito-federal-e-regia...</td>\n",
              "      <td>650.0</td>\n",
              "      <td>Brasília, Taguatinga Sul (Taguatinga) - DDD 61</td>\n",
              "      <td>Anúncio publicado em: Hoje, 10:47.</td>\n",
              "      <td>30</td>\n",
              "      <td>2</td>\n",
              "      <td>450</td>\n",
              "      <td>1100.0</td>\n",
              "    </tr>\n",
              "    <tr>\n",
              "      <th>2</th>\n",
              "      <td>ALUGUEL APART. 02 QTS.</td>\n",
              "      <td>https://df.olx.com.br/distrito-federal-e-regia...</td>\n",
              "      <td>990.0</td>\n",
              "      <td>Brasília, Taguatinga Centro (Taguatinga) - DDD 61</td>\n",
              "      <td>Anúncio publicado em: Hoje, 10:44.</td>\n",
              "      <td>50</td>\n",
              "      <td>3</td>\n",
              "      <td>0</td>\n",
              "      <td>990.0</td>\n",
              "    </tr>\n",
              "    <tr>\n",
              "      <th>3</th>\n",
              "      <td>Kitnet</td>\n",
              "      <td>https://df.olx.com.br/distrito-federal-e-regia...</td>\n",
              "      <td>700.0</td>\n",
              "      <td>Brasília, Taguatinga Sul (Taguatinga) - DDD 61</td>\n",
              "      <td>Anúncio publicado em: Hoje, 10:43.</td>\n",
              "      <td>140</td>\n",
              "      <td>2</td>\n",
              "      <td>3</td>\n",
              "      <td>703.0</td>\n",
              "    </tr>\n",
              "    <tr>\n",
              "      <th>4</th>\n",
              "      <td>Alugo casa de 3 quartos 2 banheiros  no pnort ...</td>\n",
              "      <td>https://df.olx.com.br/distrito-federal-e-regia...</td>\n",
              "      <td>1500.0</td>\n",
              "      <td>Brasília, Ceilândia Norte (Ceilândia) - DDD 61</td>\n",
              "      <td>Anúncio publicado em: Hoje, 10:39.</td>\n",
              "      <td>50</td>\n",
              "      <td>3</td>\n",
              "      <td>400</td>\n",
              "      <td>1900.0</td>\n",
              "    </tr>\n",
              "    <tr>\n",
              "      <th>...</th>\n",
              "      <td>...</td>\n",
              "      <td>...</td>\n",
              "      <td>...</td>\n",
              "      <td>...</td>\n",
              "      <td>...</td>\n",
              "      <td>...</td>\n",
              "      <td>...</td>\n",
              "      <td>...</td>\n",
              "      <td>...</td>\n",
              "    </tr>\n",
              "    <tr>\n",
              "      <th>334</th>\n",
              "      <td>Ap. 2 quartos c/ garagem Vicente Pires Rua 4c ...</td>\n",
              "      <td>https://df.olx.com.br/distrito-federal-e-regia...</td>\n",
              "      <td>800.0</td>\n",
              "      <td>Brasília, Setor Habitacional Vicente Pires - T...</td>\n",
              "      <td>Anúncio publicado em: Hoje, 09:42.</td>\n",
              "      <td>54</td>\n",
              "      <td>2</td>\n",
              "      <td>0</td>\n",
              "      <td>800.0</td>\n",
              "    </tr>\n",
              "    <tr>\n",
              "      <th>335</th>\n",
              "      <td>Alugo apto 1 quarto 200mts do Metrô EQNN 23/25...</td>\n",
              "      <td>https://df.olx.com.br/distrito-federal-e-regia...</td>\n",
              "      <td>900.0</td>\n",
              "      <td>Brasília, Ceilândia Norte (Ceilândia) - DDD 61</td>\n",
              "      <td>Anúncio publicado em: Hoje, 09:37.</td>\n",
              "      <td>53</td>\n",
              "      <td>3</td>\n",
              "      <td>1100</td>\n",
              "      <td>2000.0</td>\n",
              "    </tr>\n",
              "    <tr>\n",
              "      <th>336</th>\n",
              "      <td>SQS 315 Bloco E, Asa Sul - Brasília/DF</td>\n",
              "      <td>https://df.olx.com.br/distrito-federal-e-regia...</td>\n",
              "      <td>4100.0</td>\n",
              "      <td>Brasília, Asa Sul - DDD 61</td>\n",
              "      <td>Anúncio publicado em: Hoje, 09:36.</td>\n",
              "      <td>55</td>\n",
              "      <td>2</td>\n",
              "      <td>263</td>\n",
              "      <td>4363.0</td>\n",
              "    </tr>\n",
              "    <tr>\n",
              "      <th>337</th>\n",
              "      <td>Alugo lindo apartamento de um quarto no Imperi...</td>\n",
              "      <td>https://df.olx.com.br/distrito-federal-e-regia...</td>\n",
              "      <td>850.0</td>\n",
              "      <td>Brasília, Condomínio Império dos Nobres (Sobra...</td>\n",
              "      <td>Anúncio publicado em: Hoje, 09:31.</td>\n",
              "      <td>74</td>\n",
              "      <td>3</td>\n",
              "      <td>0</td>\n",
              "      <td>850.0</td>\n",
              "    </tr>\n",
              "    <tr>\n",
              "      <th>339</th>\n",
              "      <td>Apartamento QNM 12- com 2 quartos em Ceilândia...</td>\n",
              "      <td>https://df.olx.com.br/distrito-federal-e-regia...</td>\n",
              "      <td>1200.0</td>\n",
              "      <td>Brasília, Ceilândia Norte (Ceilândia) - DDD 61</td>\n",
              "      <td>Anúncio publicado em: Hoje, 09:29.</td>\n",
              "      <td>90</td>\n",
              "      <td>2</td>\n",
              "      <td>385</td>\n",
              "      <td>1585.0</td>\n",
              "    </tr>\n",
              "  </tbody>\n",
              "</table>\n",
              "<p>326 rows × 9 columns</p>\n",
              "</div>\n",
              "      <button class=\"colab-df-convert\" onclick=\"convertToInteractive('df-8312afc3-f3bd-4899-b42e-0c8cca06b8bc')\"\n",
              "              title=\"Convert this dataframe to an interactive table.\"\n",
              "              style=\"display:none;\">\n",
              "        \n",
              "  <svg xmlns=\"http://www.w3.org/2000/svg\" height=\"24px\"viewBox=\"0 0 24 24\"\n",
              "       width=\"24px\">\n",
              "    <path d=\"M0 0h24v24H0V0z\" fill=\"none\"/>\n",
              "    <path d=\"M18.56 5.44l.94 2.06.94-2.06 2.06-.94-2.06-.94-.94-2.06-.94 2.06-2.06.94zm-11 1L8.5 8.5l.94-2.06 2.06-.94-2.06-.94L8.5 2.5l-.94 2.06-2.06.94zm10 10l.94 2.06.94-2.06 2.06-.94-2.06-.94-.94-2.06-.94 2.06-2.06.94z\"/><path d=\"M17.41 7.96l-1.37-1.37c-.4-.4-.92-.59-1.43-.59-.52 0-1.04.2-1.43.59L10.3 9.45l-7.72 7.72c-.78.78-.78 2.05 0 2.83L4 21.41c.39.39.9.59 1.41.59.51 0 1.02-.2 1.41-.59l7.78-7.78 2.81-2.81c.8-.78.8-2.07 0-2.86zM5.41 20L4 18.59l7.72-7.72 1.47 1.35L5.41 20z\"/>\n",
              "  </svg>\n",
              "      </button>\n",
              "      \n",
              "  <style>\n",
              "    .colab-df-container {\n",
              "      display:flex;\n",
              "      flex-wrap:wrap;\n",
              "      gap: 12px;\n",
              "    }\n",
              "\n",
              "    .colab-df-convert {\n",
              "      background-color: #E8F0FE;\n",
              "      border: none;\n",
              "      border-radius: 50%;\n",
              "      cursor: pointer;\n",
              "      display: none;\n",
              "      fill: #1967D2;\n",
              "      height: 32px;\n",
              "      padding: 0 0 0 0;\n",
              "      width: 32px;\n",
              "    }\n",
              "\n",
              "    .colab-df-convert:hover {\n",
              "      background-color: #E2EBFA;\n",
              "      box-shadow: 0px 1px 2px rgba(60, 64, 67, 0.3), 0px 1px 3px 1px rgba(60, 64, 67, 0.15);\n",
              "      fill: #174EA6;\n",
              "    }\n",
              "\n",
              "    [theme=dark] .colab-df-convert {\n",
              "      background-color: #3B4455;\n",
              "      fill: #D2E3FC;\n",
              "    }\n",
              "\n",
              "    [theme=dark] .colab-df-convert:hover {\n",
              "      background-color: #434B5C;\n",
              "      box-shadow: 0px 1px 3px 1px rgba(0, 0, 0, 0.15);\n",
              "      filter: drop-shadow(0px 1px 2px rgba(0, 0, 0, 0.3));\n",
              "      fill: #FFFFFF;\n",
              "    }\n",
              "  </style>\n",
              "\n",
              "      <script>\n",
              "        const buttonEl =\n",
              "          document.querySelector('#df-8312afc3-f3bd-4899-b42e-0c8cca06b8bc button.colab-df-convert');\n",
              "        buttonEl.style.display =\n",
              "          google.colab.kernel.accessAllowed ? 'block' : 'none';\n",
              "\n",
              "        async function convertToInteractive(key) {\n",
              "          const element = document.querySelector('#df-8312afc3-f3bd-4899-b42e-0c8cca06b8bc');\n",
              "          const dataTable =\n",
              "            await google.colab.kernel.invokeFunction('convertToInteractive',\n",
              "                                                     [key], {});\n",
              "          if (!dataTable) return;\n",
              "\n",
              "          const docLinkHtml = 'Like what you see? Visit the ' +\n",
              "            '<a target=\"_blank\" href=https://colab.research.google.com/notebooks/data_table.ipynb>data table notebook</a>'\n",
              "            + ' to learn more about interactive tables.';\n",
              "          element.innerHTML = '';\n",
              "          dataTable['output_type'] = 'display_data';\n",
              "          await google.colab.output.renderOutput(dataTable, element);\n",
              "          const docLink = document.createElement('div');\n",
              "          docLink.innerHTML = docLinkHtml;\n",
              "          element.appendChild(docLink);\n",
              "        }\n",
              "      </script>\n",
              "    </div>\n",
              "  </div>\n",
              "  "
            ]
          },
          "metadata": {},
          "execution_count": 57
        }
      ]
    },
    {
      "cell_type": "code",
      "source": [],
      "metadata": {
        "id": "uaHR3sdD0Iak"
      },
      "execution_count": null,
      "outputs": []
    }
  ]
}